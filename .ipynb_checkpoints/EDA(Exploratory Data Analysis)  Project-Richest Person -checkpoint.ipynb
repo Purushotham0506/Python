{
 "cells": [
  {
   "cell_type": "code",
   "execution_count": null,
   "id": "freelance-announcement",
   "metadata": {},
   "outputs": [],
   "source": [
    "'''\n",
    "Richest person in the world is the project \n",
    "'''\n",
    "import numpy as np # linear algebra\n",
    "import pandas as pd # data processing, CSV file I/O "
   ]
  },
  {
   "cell_type": "code",
   "execution_count": null,
   "id": "sophisticated-battlefield",
   "metadata": {},
   "outputs": [],
   "source": [
    "data=pd.read_csv(\"richest.csv\",delimiter=';')\n",
    "data"
   ]
  },
  {
   "cell_type": "code",
   "execution_count": null,
   "id": "greenhouse-edward",
   "metadata": {
    "scrolled": true
   },
   "outputs": [],
   "source": [
    "print(data.info())\n",
    "print(data.describe())"
   ]
  },
  {
   "cell_type": "code",
   "execution_count": null,
   "id": "unsigned-acrylic",
   "metadata": {},
   "outputs": [],
   "source": [
    "data.head() #1st #5rows"
   ]
  },
  {
   "cell_type": "code",
   "execution_count": null,
   "id": "shared-defense",
   "metadata": {},
   "outputs": [],
   "source": [
    "data.tail()#last 5rows"
   ]
  },
  {
   "cell_type": "code",
   "execution_count": null,
   "id": "promising-leonard",
   "metadata": {},
   "outputs": [],
   "source": [
    "s=data.drop([\"Unnamed: 7\",\"Unnamed: 8\",\"Unnamed: 9\",\"Unnamed: 10\"],axis='columns',inplace=True)#remove or del col"
   ]
  },
  {
   "cell_type": "code",
   "execution_count": null,
   "id": "72d73762",
   "metadata": {},
   "outputs": [],
   "source": [
    "data"
   ]
  },
  {
   "cell_type": "code",
   "execution_count": null,
   "id": "cross-journalist",
   "metadata": {},
   "outputs": [],
   "source": [
    "data.head()"
   ]
  },
  {
   "cell_type": "code",
   "execution_count": null,
   "id": "decreased-windsor",
   "metadata": {},
   "outputs": [],
   "source": [
    "data.isnull().sum()#check the null values"
   ]
  },
  {
   "cell_type": "code",
   "execution_count": null,
   "id": "grand-delta",
   "metadata": {},
   "outputs": [],
   "source": [
    "data.dropna(axis=0,inplace=True)#remove null values\n",
    "#inplace: If it is True, then it replaces in place."
   ]
  },
  {
   "cell_type": "code",
   "execution_count": null,
   "id": "consolidated-mainstream",
   "metadata": {},
   "outputs": [],
   "source": [
    "data.isnull().sum()"
   ]
  },
  {
   "cell_type": "code",
   "execution_count": null,
   "id": "80eed534",
   "metadata": {},
   "outputs": [],
   "source": [
    "data"
   ]
  },
  {
   "cell_type": "code",
   "execution_count": null,
   "id": "ea285302",
   "metadata": {},
   "outputs": [],
   "source": [
    "data['Country'].values"
   ]
  },
  {
   "cell_type": "code",
   "execution_count": null,
   "id": "social-sailing",
   "metadata": {},
   "outputs": [],
   "source": [
    "data=data.replace('Canda','Canada',regex=True)\n",
    "data.head()\n",
    "data.dtypes\n",
    "#regex: For pandas to interpret the replacement as regular expression replacement, set it to True"
   ]
  },
  {
   "cell_type": "code",
   "execution_count": null,
   "id": "f41c0ea5",
   "metadata": {},
   "outputs": [],
   "source": [
    "data['Country'].values"
   ]
  },
  {
   "cell_type": "code",
   "execution_count": null,
   "id": "7621c3ef",
   "metadata": {},
   "outputs": [],
   "source": [
    "data"
   ]
  },
  {
   "cell_type": "code",
   "execution_count": null,
   "id": "broad-applicant",
   "metadata": {},
   "outputs": [],
   "source": [
    "data=data.replace(['\\$',\" \"],\"\",regex=True)\n",
    "data"
   ]
  },
  {
   "cell_type": "code",
   "execution_count": null,
   "id": "518864fa",
   "metadata": {},
   "outputs": [],
   "source": [
    "data[\"Total Net Worth\"]=data[\"Total Net Worth\"].replace(\"B\",\"\",regex=True) \n"
   ]
  },
  {
   "cell_type": "code",
   "execution_count": null,
   "id": "ab9198e8",
   "metadata": {},
   "outputs": [],
   "source": [
    "data"
   ]
  },
  {
   "cell_type": "code",
   "execution_count": null,
   "id": "e415c469",
   "metadata": {},
   "outputs": [],
   "source": [
    "data[\"Total Net Worth\"]=pd.to_numeric(data[\"Total Net Worth\"],errors=\"coerce\")\n",
    "data[\"Total Net Worth\"].dtype"
   ]
  },
  {
   "cell_type": "code",
   "execution_count": null,
   "id": "owned-convention",
   "metadata": {},
   "outputs": [],
   "source": [
    "data.head()"
   ]
  },
  {
   "cell_type": "code",
   "execution_count": null,
   "id": "three-lindsay",
   "metadata": {},
   "outputs": [],
   "source": [
    "def value_to_float(x):\n",
    "    if 'K' in x:\n",
    "        if len(x) > 1:\n",
    "            return float(x.replace('K','')) * 0.000001\n",
    "    if 'M' in x:\n",
    "        if len(x) > 1:\n",
    "            return float(x.replace('M', '')) * 1000\n",
    "    if 'B' in x:\n",
    "        if len(x) > 1:\n",
    "            return float(x.replace('B', '')) * 100000\n",
    "data['$ Last Change'] = data['$ Last Change'].apply(value_to_float)"
   ]
  },
  {
   "cell_type": "code",
   "execution_count": null,
   "id": "altered-plasma",
   "metadata": {
    "scrolled": true
   },
   "outputs": [],
   "source": [
    "data.head()"
   ]
  },
  {
   "cell_type": "code",
   "execution_count": null,
   "id": "geological-registration",
   "metadata": {},
   "outputs": [],
   "source": [
    "def value_to_float(x):\n",
    "    if 'K' in x:\n",
    "        if len(x) > 1:\n",
    "            return float(x.replace('K','')) * 0.000001\n",
    "    if 'M' in x:\n",
    "        if len(x) > 1:\n",
    "            return float(x.replace('M', '')) * 1000\n",
    "    if 'B' in x:\n",
    "        if len(x) > 1:\n",
    "            return float(x.replace('B', '')) * 100000\n",
    "\n",
    "data['$ YTD Change'] = data['$ YTD Change'].apply(value_to_float)"
   ]
  },
  {
   "cell_type": "code",
   "execution_count": null,
   "id": "82e2b224",
   "metadata": {},
   "outputs": [],
   "source": []
  },
  {
   "cell_type": "code",
   "execution_count": null,
   "id": "aerial-opera",
   "metadata": {
    "scrolled": true
   },
   "outputs": [],
   "source": [
    "data.head()"
   ]
  },
  {
   "cell_type": "code",
   "execution_count": null,
   "id": "olympic-lender",
   "metadata": {
    "scrolled": true
   },
   "outputs": [],
   "source": [
    "data.dtypes"
   ]
  },
  {
   "cell_type": "code",
   "execution_count": null,
   "id": "official-broad",
   "metadata": {},
   "outputs": [],
   "source": [
    "display(data[data['Total Net Worth']>=50])"
   ]
  },
  {
   "cell_type": "code",
   "execution_count": null,
   "id": "designing-crisis",
   "metadata": {},
   "outputs": [],
   "source": [
    "display(data[data.Country=='India'])"
   ]
  },
  {
   "cell_type": "code",
   "execution_count": null,
   "id": "genuine-dining",
   "metadata": {},
   "outputs": [],
   "source": [
    "import matplotlib.pyplot as plt\n",
    "from matplotlib import style\n",
    "from matplotlib import figure\n",
    "style.use('fivethirtyeight')"
   ]
  },
  {
   "cell_type": "code",
   "execution_count": null,
   "id": "aerial-score",
   "metadata": {},
   "outputs": [],
   "source": [
    "india=data[data.Country=='India']"
   ]
  },
  {
   "cell_type": "code",
   "execution_count": null,
   "id": "danish-pillow",
   "metadata": {},
   "outputs": [],
   "source": [
    "plt.bar(india['Name'],india['Total Net Worth'])\n",
    "plt.title('Indian Richies')\n",
    "plt.ylabel('Billion $')\n",
    "plt.gcf().set_size_inches(10, 5)\n",
    "plt.xticks(rotation=90)\n",
    "plt.show()"
   ]
  },
  {
   "cell_type": "code",
   "execution_count": null,
   "id": "declared-respect",
   "metadata": {},
   "outputs": [],
   "source": [
    "#OF ALL Countries\n",
    "plt.bar(data['Industry'],data['Total Net Worth'],color='#380282')\n",
    "plt.title(\"Industry\")\n",
    "plt.xlabel(\"Total Net Worth\")\n",
    "plt.gcf().set_size_inches(30, 10)\n",
    "plt.show()"
   ]
  },
  {
   "cell_type": "code",
   "execution_count": null,
   "id": "1c618fb9",
   "metadata": {},
   "outputs": [],
   "source": [
    "india['Industry']"
   ]
  },
  {
   "cell_type": "code",
   "execution_count": null,
   "id": "876f4dd7",
   "metadata": {},
   "outputs": [],
   "source": [
    "india"
   ]
  },
  {
   "cell_type": "code",
   "execution_count": null,
   "id": "square-badge",
   "metadata": {
    "scrolled": true
   },
   "outputs": [],
   "source": [
    "#India Only\n",
    "plt.barh(india['Industry'],india['Total Net Worth'],color='#15B01A')\n",
    "plt.xlabel(\"Total Net worth\")\n",
    "plt.title(\"Industry\")\n",
    "plt.gcf().set_size_inches(15, 8)\n",
    "plt.show()"
   ]
  },
  {
   "cell_type": "code",
   "execution_count": null,
   "id": "cloudy-climate",
   "metadata": {},
   "outputs": [],
   "source": [
    "display(data[\"Country\"].value_counts())"
   ]
  },
  {
   "cell_type": "code",
   "execution_count": null,
   "id": "everyday-librarian",
   "metadata": {},
   "outputs": [],
   "source": [
    "#Percentage Of richies from top 10 countries\n",
    "country=data[\"Country\"].value_counts().head(10).values\n",
    "name=data[\"Country\"].value_counts().head(10).index\n",
    "plt.gcf().set_size_inches(20, 11)\n",
    "plt.pie(country,labels=name,autopct=\"%1.1f%%\",wedgeprops={'edgecolor':'black'},explode=[0.1,0,0,0,0,0,0,0,0,0])\n",
    "plt.title('Top 10')\n",
    "plt.show()"
   ]
  },
  {
   "cell_type": "code",
   "execution_count": null,
   "id": "twenty-modification",
   "metadata": {},
   "outputs": [],
   "source": [
    "data[data.Country=='UnitedStates'].head(10)"
   ]
  },
  {
   "cell_type": "code",
   "execution_count": null,
   "id": "brief-cache",
   "metadata": {},
   "outputs": [],
   "source": [
    "#Last Change In India\n",
    "plt.bar(india['Name'],india['$ Last Change'],color=(india['$ Last Change']>0.0).map({True:'#DBB40C',False:'#A52A2A'}))\n",
    "plt.xlabel(\"Indian Richies\")\n",
    "plt.ylabel(\"$ Last Change\")\n",
    "plt.gcf().set_size_inches(15, 8)\n",
    "plt.xticks(rotation=90)\n",
    "plt.show()"
   ]
  }
 ],
 "metadata": {
  "kernelspec": {
   "display_name": "Python 3 (ipykernel)",
   "language": "python",
   "name": "python3"
  },
  "language_info": {
   "codemirror_mode": {
    "name": "ipython",
    "version": 3
   },
   "file_extension": ".py",
   "mimetype": "text/x-python",
   "name": "python",
   "nbconvert_exporter": "python",
   "pygments_lexer": "ipython3",
   "version": "3.10.9"
  }
 },
 "nbformat": 4,
 "nbformat_minor": 5
}
